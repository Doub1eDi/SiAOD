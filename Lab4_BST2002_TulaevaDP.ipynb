{
 "cells": [
  {
   "cell_type": "markdown",
   "metadata": {},
   "source": [
    "# Лабораторная работа №4. \n",
    "## Выполнила студентка грауппы БСТ2002 Тулаева Диана Павловна\n",
    "### Задание\n",
    "Реализовать следующие структуры данных:\n",
    "  \n",
    "● <b> Стек (stack): </b>  \n",
    "Операции для стека: \n",
    "<i> инициализация, проверка на пустоту, добавление нового элемента в начало, извлечение элемента из начала;  </i>  \n",
    "  \n",
    "● <b> Дек (двусторонняя очередь, deque):  </b>  \n",
    "Операции для дека: \n",
    "<i> инициализация, проверка на пустоту, добавление нового элемента в начало, добавление нового элемента в конец, извлечение элемента из начала, извлечение элемента из конца. </i>  \n",
    "  \n",
    "<i> Разработать программу обработки данных, содержащихся в заранее подготовленном txt-файле, в соответствии с заданиями, применив указанную в задании структуру данных. Результат работы программы вывести на экран и сохранить в отдельном txt-файле. </i>"
   ]
  },
  {
   "cell_type": "markdown",
   "metadata": {},
   "source": [
    "### Стек"
   ]
  },
  {
   "cell_type": "code",
   "execution_count": 66,
   "metadata": {},
   "outputs": [],
   "source": [
    "class MyStack:\n",
    "\n",
    "    def __init__(self):\n",
    "        self.array = []\n",
    "\n",
    "    def isempty(self):\n",
    "        if self.array is None:\n",
    "            return True\n",
    "        if len(self.array) == 0:\n",
    "            return True\n",
    "        return False\n",
    "\n",
    "    def add(self, element):\n",
    "        self.array.append(element)\n",
    "\n",
    "    def pop(self):\n",
    "        return self.array.pop()\n",
    "\n",
    "    def print(self):\n",
    "        return (self.array)\n",
    "\n",
    "    def __len__(self):\n",
    "        return self.array.__len__()\n",
    "\n",
    "    def peek(self):\n",
    "        return self.array.__getitem__(len(self.array) - 1)"
   ]
  },
  {
   "cell_type": "markdown",
   "metadata": {},
   "source": [
    "### Пример работы"
   ]
  },
  {
   "cell_type": "code",
   "execution_count": 67,
   "metadata": {},
   "outputs": [
    {
     "name": "stdout",
     "output_type": "stream",
     "text": [
      "True\n",
      "['2', '-8', '366', '1']\n",
      "Удалённый элемент: '1'\n",
      "['2', '-8', '366']\n"
     ]
    }
   ],
   "source": [
    "stack_my = MyStack()\n",
    "\n",
    "print(stack_my.isempty())\n",
    "stack_my.add('2')\n",
    "stack_my.add('-8')\n",
    "stack_my.add('366')\n",
    "stack_my.add('1')\n",
    "print(stack_my.print())\n",
    "print(\"Удалённый элемент:\", \"'\" + stack_my.pop() + \"'\")\n",
    "print(stack_my.print())"
   ]
  },
  {
   "cell_type": "markdown",
   "metadata": {},
   "source": [
    "### Дек"
   ]
  },
  {
   "cell_type": "code",
   "execution_count": 68,
   "metadata": {},
   "outputs": [],
   "source": [
    "class DeQue:\n",
    "\n",
    "    def __init__(self):\n",
    "        self.array = []\n",
    "\n",
    "    def empty(self):\n",
    "        if self.array is None:\n",
    "            return True\n",
    "        if len(self.array) == 0:\n",
    "            return True\n",
    "        return False\n",
    "\n",
    "    def addbeginning(self, element):\n",
    "        self.array.insert(0, element)\n",
    "\n",
    "    def addend(self, element):\n",
    "        self.array.append(element)\n",
    "\n",
    "    def popbeginning(self):\n",
    "        return self.array.pop(0)\n",
    "\n",
    "    def popend(self):\n",
    "        return self.array.pop()\n",
    "\n",
    "    def peekbeginning(self):\n",
    "        return self.array.__getitem__(0)\n",
    "\n",
    "    def peekend(self):\n",
    "        return self.array.__getitem__(len(self.array) - 1)\n",
    "\n",
    "    def print(self):\n",
    "        return  (self.array)"
   ]
  },
  {
   "cell_type": "markdown",
   "metadata": {},
   "source": [
    "### Пример работы"
   ]
  },
  {
   "cell_type": "code",
   "execution_count": 69,
   "metadata": {},
   "outputs": [
    {
     "name": "stdout",
     "output_type": "stream",
     "text": [
      "True\n",
      "['3', '2', '5', '6']\n",
      "Удалённый c начала элемент: '3'\n",
      "Удалённый c конца элемент: '6'\n",
      "['2', '5']\n"
     ]
    }
   ],
   "source": [
    "deque_my = DeQue()\n",
    "\n",
    "print(deque_my.empty())\n",
    "\n",
    "deque_my.addbeginning('2')\n",
    "deque_my.addbeginning('3')\n",
    "deque_my.addend('5')\n",
    "deque_my.addend('6')\n",
    "print(deque_my.print())\n",
    "\n",
    "print(\"Удалённый c начала элемент:\", \"'\" + deque_my.popbeginning() + \"'\")\n",
    "print(\"Удалённый c конца элемент:\", \"'\" + deque_my.popend() + \"'\")\n",
    "print(deque_my.print())"
   ]
  },
  {
   "cell_type": "markdown",
   "metadata": {},
   "source": [
    "### Задание №1\n",
    "Отсортировать строки файла, содержащие названия книг, в алфавитном порядке с использованием двух деков."
   ]
  },
  {
   "cell_type": "code",
   "execution_count": 71,
   "metadata": {},
   "outputs": [],
   "source": [
    "def task1(file_name):\n",
    "    file = open(file_name, encoding ='utf-8')\n",
    "    deque_t1_buffer = DeQue()\n",
    "    deque_t1_main = DeQue()\n",
    "\n",
    "    for line in file:\n",
    "        deque_t1_buffer.addend(line)\n",
    "\n",
    "    while not deque_t1_buffer.empty():\n",
    "        if deque_t1_main.empty():\n",
    "            deque_t1_main.addend(deque_t1_buffer.popend())\n",
    "\n",
    "        if deque_t1_main.peekend()[0] <= deque_t1_buffer.peekend()[0]:\n",
    "            deque_t1_main.addend(deque_t1_buffer.popend())\n",
    "        elif deque_t1_main.peekbeginning()[0] > deque_t1_buffer.peekend()[0]:\n",
    "            deque_t1_main.addbeginning(deque_t1_buffer.popend())\n",
    "        else:\n",
    "            deque_t1_buffer.addbeginning(deque_t1_main.popbeginning())\n",
    "    return deque_t1_main\n",
    "\n",
    "\n",
    "deque_t1_main = task1('task1_in.txt')\n",
    "\n",
    "file = open('task1_out.txt', 'w')\n",
    "while not deque_t1_main.empty():\n",
    "    file.write(deque_t1_main.popbeginning()) "
   ]
  },
  {
   "cell_type": "markdown",
   "metadata": {},
   "source": [
    "### Задание №2\n",
    "Дек содержит последовательность символов для шифровки сообщений. Дан текстовый файл, содержащий зашифрованное сообщение. Пользуясь деком, расшифровать текст. \n",
    "Известно, что при шифровке каждый символ сообщения заменялся следующим за ним в деке по часовой стрелке через один."
   ]
  },
  {
   "cell_type": "code",
   "execution_count": 72,
   "metadata": {},
   "outputs": [
    {
     "data": {
      "text/plain": [
       "29"
      ]
     },
     "execution_count": 72,
     "metadata": {},
     "output_type": "execute_result"
    }
   ],
   "source": [
    "def task2(file_name):\n",
    "    file = open(file_name, encoding='utf-8')\n",
    "\n",
    "    deque_t2_encoder = DeQue()\n",
    "    # формируем дек\n",
    "    for i in range(32):\n",
    "        deque_t2_encoder.addend(str(ord(\"а\") + i))\n",
    "    deque_t2_encoder.addend(str(ord(\" \")))\n",
    "\n",
    "    s_message = ''\n",
    "    for line in file:\n",
    "        for sym in line:\n",
    "            while sym != chr(int(deque_t2_encoder.peekend())):\n",
    "                deque_t2_encoder.addbeginning(deque_t2_encoder.popend())\n",
    "\n",
    "            deque_t2_encoder.addbeginning(deque_t2_encoder.popend())\n",
    "            deque_t2_encoder.addbeginning(deque_t2_encoder.popend())\n",
    "            s_message += chr(int(deque_t2_encoder.peekend()))\n",
    "    return s_message\n",
    "\n",
    "\n",
    "\n",
    "s_message = task2('task2_in.txt')\n",
    "\n",
    "file = open('task2_out.txt', 'w')\n",
    "\n",
    "file.write(s_message)"
   ]
  },
  {
   "cell_type": "markdown",
   "metadata": {},
   "source": [
    "### Задание №3\n",
    "Даны три стержня и n дисков различного размера. Диски можно надевать на стержни, образуя из них башни. Перенести n дисков со стержня А на стержень С, сохранив их первоначальный порядок. При переносе дисков необходимо соблюдать следующие правила:\n",
    "- на каждом шаге со стержня на стержень переносить только один диск;\n",
    "- диск нельзя помещать на диск меньшего размера;\n",
    "- для промежуточного хранения можно использовать стержень В.\n",
    "Реализовать алгоритм, используя три стека вместо стержней А, В, С. Информация о дисках хранится в исходном файле."
   ]
  },
  {
   "cell_type": "code",
   "execution_count": 89,
   "metadata": {},
   "outputs": [],
   "source": [
    "A = MyStack()\n",
    "B = MyStack()\n",
    "C = MyStack()\n",
    "\n",
    "file = open('task3_in.txt')\n",
    "\n",
    "disks = int(file.readline())\n",
    "for i in range(disks, 0, -1):\n",
    "    A.add(i)\n",
    "\n",
    "def move(a, b):\n",
    "    # если исп.стек пустой и след. > 0\n",
    "    if len(a) == 0 and len(b) > 0:\n",
    "        #удаляем из b и перекладываем в a\n",
    "        a.add(b.pop())\n",
    "    elif len(a) > 0 and len(b) == 0:\n",
    "        b.add(a.pop())\n",
    "    #сравниваем первые элементы\n",
    "    elif a.peek() > b.peek():\n",
    "        a.add(b.pop())\n",
    "    else:\n",
    "        b.add(a.pop())\n",
    "\n",
    "def task3(A, B, C):\n",
    "    if disks % 2 == 0:\n",
    "        while len(C) != disks:\n",
    "            move(A, B)\n",
    "            move(A, C)\n",
    "            move(B, C)\n",
    "    else:\n",
    "        while len(C) != disks:\n",
    "            move(A, C)\n",
    "            move(A, B)\n",
    "            move(B, C)\n",
    "\n",
    "task3(A, B, C)\n",
    "\n",
    "file = open('task3_out.txt', 'w')\n",
    "while not C.isempty():\n",
    "    file.write(str(C.pop()))"
   ]
  },
  {
   "cell_type": "markdown",
   "metadata": {},
   "source": [
    "### Задание №4\n",
    "Дан текстовый файл с программой на алгоритмическом языке. За один просмотр файла проверить баланс круглых скобок в тексте, используя стек."
   ]
  },
  {
   "cell_type": "code",
   "execution_count": 74,
   "metadata": {},
   "outputs": [],
   "source": [
    "def task4(file_name):\n",
    "    file = open(file_name)\n",
    "\n",
    "    stack_t4 = MyStack()\n",
    "\n",
    "    for line in file:\n",
    "        for sym in line:\n",
    "            if sym == '(':\n",
    "                stack_t4.add(\"not_balanced\")\n",
    "            elif sym == ')':\n",
    "                if stack_t4.isempty():\n",
    "                    stack_t4.add(\"not_balanced\")\n",
    "                    break\n",
    "                else:\n",
    "                    stack_t4.pop()\n",
    "    return stack_t4\n",
    "\n",
    "stack_t4 = task4('task4_in.txt')\n",
    "\n",
    "file = open('task4_out.txt', 'w')\n",
    "\n",
    "if stack_t4.isempty():\n",
    "    file.write(\"Balanced\")\n",
    "else:\n",
    "    file.write(\"Not balanced\")"
   ]
  },
  {
   "cell_type": "markdown",
   "metadata": {},
   "source": [
    "### Задание №5\n",
    "Дан текстовый файл с программой на алгоритмическом языке. За один просмотр файла проверить баланс квадратных скобок в тексте, используя дек."
   ]
  },
  {
   "cell_type": "code",
   "execution_count": 101,
   "metadata": {},
   "outputs": [],
   "source": [
    "def task5(file_name):\n",
    "    file = open(file_name)\n",
    "\n",
    "    deque_t5 = DeQue()\n",
    "\n",
    "    for line in file:\n",
    "        for sym in line:\n",
    "            if sym == '[':\n",
    "                deque_t5.addbeginning(\"not_balanced\")\n",
    "            elif sym == ']':\n",
    "                if deque_t5.empty():\n",
    "                    deque_t5.addbeginning(\"not_balanced\")\n",
    "                    break\n",
    "                else:\n",
    "                    deque_t5.popbeginning()\n",
    "    return deque_t5\n",
    "\n",
    "\n",
    "deque_t5 = task5('task5_in.txt')\n",
    "file = open('task5_out.txt', 'w')\n",
    "\n",
    "if deque_t5.empty():\n",
    "    file.write(\"Balanced\")\n",
    "else:\n",
    "    file.write(\"Not balanced\")"
   ]
  },
  {
   "cell_type": "markdown",
   "metadata": {},
   "source": [
    "### Задание №6\n",
    "Дан файл из символов. Используя стек, за один просмотр файла напечатать сначала все цифры, затем все буквы, и, наконец, все остальные символы, сохраняя исходный порядок в каждой группе символов."
   ]
  },
  {
   "cell_type": "code",
   "execution_count": 76,
   "metadata": {},
   "outputs": [],
   "source": [
    "def task6(file_name):\n",
    "    file = open(file_name)\n",
    "\n",
    "    stack_symbols = MyStack()\n",
    "    stack_numbers = MyStack()\n",
    "    stack_other = MyStack()\n",
    "\n",
    "    for line in file:\n",
    "        for sym in line:\n",
    "            if '9' >= sym[0] >= '0':\n",
    "                stack_numbers.add(sym)\n",
    "            elif 'A' <= sym[0] <= 'z':\n",
    "                stack_symbols.add(sym)\n",
    "            else:\n",
    "                stack_other.add(sym)\n",
    "    return stack_symbols, stack_numbers, stack_other\n",
    "\n",
    "stack_symbols, stack_numbers, stack_other = task6('task6_in.txt')\n",
    "\n",
    "stack_symbols_revers = MyStack()\n",
    "stack_numbers_revers = MyStack()\n",
    "stack_other_revers = MyStack()\n",
    "\n",
    "while not stack_numbers.isempty():\n",
    "    stack_numbers_revers.add(stack_numbers.pop())\n",
    "while not stack_symbols.isempty():\n",
    "    stack_symbols_revers.add(stack_symbols.pop())\n",
    "while not stack_other.isempty():\n",
    "    stack_other_revers.add(stack_other.pop())\n",
    "\n",
    "file = open('task6_out.txt', 'w')\n",
    "\n",
    "while not stack_numbers_revers.isempty():\n",
    "    file.write(stack_numbers_revers.pop())\n",
    "file.write('\\n')\n",
    "while not stack_symbols_revers.isempty():\n",
    "    file.write(stack_symbols_revers.pop())\n",
    "file.write('\\n')\n",
    "while not stack_other_revers.isempty():\n",
    "    file.write(stack_other_revers.pop())"
   ]
  },
  {
   "cell_type": "markdown",
   "metadata": {},
   "source": [
    "### Задание №7\n",
    "Дан файл из целых чисел. Используя дек, за один просмотр файла напечатать сначала все отрицательные числа, затем все положительные числа, сохраняя исходный порядок в каждой группе."
   ]
  },
  {
   "cell_type": "code",
   "execution_count": 105,
   "metadata": {},
   "outputs": [],
   "source": [
    "def task7(file_name):\n",
    "    file = open(file_name)\n",
    "\n",
    "    deque_t7_neg = DeQue()\n",
    "    deque_t7_pos = DeQue()\n",
    "\n",
    "    f_positive = True\n",
    "    for line in file:\n",
    "        for sym in line:\n",
    "            if sym == '-':\n",
    "                f_positive = False\n",
    "                continue\n",
    "            if sym != ' ':\n",
    "                if f_positive:\n",
    "                    deque_t7_pos.addbeginning(sym)\n",
    "                else:\n",
    "                    deque_t7_neg.addbeginning('-' + sym)\n",
    "                    f_positive = True\n",
    "    return deque_t7_neg, deque_t7_pos\n",
    "\n",
    "\n",
    "deque_t7_neg, deque_t7_pos = task7('task7_in.txt')\n",
    "\n",
    "\n",
    "deque_t7_neg_revers = DeQue()\n",
    "deque_t7_pos_revers = DeQue()\n",
    "\n",
    "while not deque_t7_neg.empty():\n",
    "    deque_t7_neg_revers.addbeginning(deque_t7_neg.popbeginning())\n",
    "while not deque_t7_pos.empty():\n",
    "    deque_t7_pos_revers.addbeginning(deque_t7_pos.popbeginning())\n",
    "\n",
    "file = open('task7_out.txt', 'w')\n",
    "\n",
    "while not deque_t7_neg_revers.empty():\n",
    "    file.write(deque_t7_neg_revers.popbeginning() + ' ')\n",
    "file.write('\\n')\n",
    "while not deque_t7_pos_revers.empty():\n",
    "    file.write(deque_t7_pos_revers.popbeginning() + \" \")"
   ]
  },
  {
   "cell_type": "markdown",
   "metadata": {},
   "source": [
    "### Задание №8\n",
    "Дан текстовый файл. Используя стек, сформировать новый текстовый файл, содержащий строки исходного файла, записанные в обратном порядке: первая строка становится последней, вторая – предпоследней и т.д."
   ]
  },
  {
   "cell_type": "code",
   "execution_count": 78,
   "metadata": {},
   "outputs": [],
   "source": [
    "def task8(file_name):\n",
    "    file = open(file_name, encoding='utf-8')\n",
    "\n",
    "    stack_t8_lines = MyStack()\n",
    "\n",
    "    for line in file:\n",
    "        stack_t8_lines.add(line)\n",
    "    return stack_t8_lines\n",
    "\n",
    "\n",
    "stack_t8_lines = task8('task8_in.txt')\n",
    "\n",
    "file = open('task8_out.txt', 'w')\n",
    "\n",
    "while not stack_t8_lines.isempty():\n",
    "    file.write(stack_t8_lines.pop())"
   ]
  },
  {
   "cell_type": "markdown",
   "metadata": {},
   "source": [
    "# вывод\n",
    "Были реализованы следующие структуры данных: стек, дек. Так же было выполнено 8 задач, связанных с использованием изученных структур данных"
   ]
  }
 ],
 "metadata": {
  "interpreter": {
   "hash": "cb384d22ae381f0127bb020f93f50890e077b08a21b2f5c05394a20968a6b27b"
  },
  "kernelspec": {
   "display_name": "Python 3 (ipykernel)",
   "language": "python",
   "name": "python3"
  },
  "language_info": {
   "codemirror_mode": {
    "name": "ipython",
    "version": 3
   },
   "file_extension": ".py",
   "mimetype": "text/x-python",
   "name": "python",
   "nbconvert_exporter": "python",
   "pygments_lexer": "ipython3",
   "version": "3.9.7"
  }
 },
 "nbformat": 4,
 "nbformat_minor": 1
}
