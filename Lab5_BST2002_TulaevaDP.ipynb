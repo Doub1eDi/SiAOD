{
 "cells": [
  {
   "cell_type": "markdown",
   "id": "25d598e0",
   "metadata": {},
   "source": [
    "# Лабораторная работа №5 Рекурсия. Фракталы."
   ]
  },
  {
   "cell_type": "markdown",
   "id": "9dfb2046",
   "metadata": {},
   "source": [
    "## Выполнила студентка грауппы БСТ2002 Тулаева Диана Павловна"
   ]
  },
  {
   "cell_type": "markdown",
   "id": "c1be5bb8",
   "metadata": {},
   "source": [
    "### Задание:\n",
    "Реализовать генерацию заданного типа фрактала с применением рекурсивных функций.\n",
    "\n",
    "Добавить возможность задания глубины фрактала. \n",
    "\n",
    "Оценить глубину рекурсии.\n",
    "\n",
    "Построить таблицу зависимости времени построения от глубины фрактала."
   ]
  },
  {
   "cell_type": "code",
   "execution_count": 1,
   "id": "4327ca80",
   "metadata": {},
   "outputs": [],
   "source": [
    "import math \n",
    "from tkinter import * \n",
    "import time"
   ]
  },
  {
   "cell_type": "markdown",
   "id": "5788b925",
   "metadata": {},
   "source": [
    "## Дерево Пифагора"
   ]
  },
  {
   "cell_type": "code",
   "execution_count": 14,
   "id": "555ae217",
   "metadata": {},
   "outputs": [],
   "source": [
    "import time\n",
    "def Pyth_tree( x, y, side, fi, alfa, deep, count):\n",
    "    A = time.time()\n",
    "    #count += 1\n",
    "    #print ('r =', + count)\n",
    "    dx = side * math.sin(fi)  \n",
    "    dy = side * math.cos(fi)\n",
    "    x1 = x + dx\n",
    "    y1 = y - dy   \n",
    "    x2 = x + dx - dy\n",
    "    y2 = y - dy - dx\n",
    "    x3 = x - dy\n",
    "    y3 = y - dx\n",
    "    x4 = x - dy + side * math.cos(alfa) * math.sin(fi - alfa)\n",
    "    y4 = y - dx - side * math.cos(alfa) * math.cos(fi - alfa)\n",
    "    \n",
    "    colour = \"#000000\"\n",
    "    fff = \"\"\n",
    "    canv.create_polygon(x, y, x1, y1, x2, y2, x3, y3, outline = colour, fill = fff ) # Рисует многугольник (у нас квадрат)\n",
    "     \n",
    "    if deep > 1:\n",
    "        #B = time.time() - A\n",
    "        #print('%.8f' % B,\"секунд\")\n",
    "        Pyth_tree(x4, y4, side * math.sin(alfa), fi-alfa + math.pi/2, alfa, deep-1, count)\n",
    "        Pyth_tree(x3, y3, side * math.cos(alfa), fi-alfa, alfa, deep-1, count)"
   ]
  },
  {
   "cell_type": "code",
   "execution_count": 75,
   "id": "140d99c6",
   "metadata": {},
   "outputs": [
    {
     "name": "stdout",
     "output_type": "stream",
     "text": [
      "Введите координаты расположения Пифагорова деревца:\n",
      "x =\n",
      "800\n",
      "y =\n",
      "650\n",
      "Введите длинну стороны квадрата:\n",
      "120\n",
      "Введите глубину фрактала:\n",
      "17\n",
      "\n",
      "Оценка глубины рекурсии:\n",
      "18\n"
     ]
    }
   ],
   "source": [
    "print('Введите координаты расположения Пифагорова деревца:')\n",
    "print('x =')\n",
    "x = int(input())\n",
    "print('y =')\n",
    "y = int(input())\n",
    "print('Введите длинну стороны квадрата:')\n",
    "side = int(input())\n",
    "print('Введите глубину фрактала:')\n",
    "deep = int(input())\n",
    "#при вызове нижеприведенной команды мы создаем базовое окно приложения\n",
    "root = Tk();\n",
    "root.title(\"Pifagor's tree\")\n",
    "#создание холста\n",
    "canv = Canvas(root, width = 1600, height = 1200, bg = \"white\")\n",
    "canv.pack() \n",
    "#рисуем дерево\n",
    "Pyth_tree(x, y, side, math.pi/2, math.pi/4, deep + 1, 0)\n",
    "print('\\nОценка глубины рекурсии:')\n",
    "print(deep + 1)\n",
    "root.mainloop() "
   ]
  },
  {
   "cell_type": "code",
   "execution_count": 81,
   "id": "329429d1",
   "metadata": {},
   "outputs": [
    {
     "name": "stdout",
     "output_type": "stream",
     "text": [
      "Глубина 1          0.0001267000006919261\n",
      "Глубина 3          0.00039139999989856733\n",
      "Глубина 5          0.0009728000004542992\n",
      "Глубина 7          0.002684800000679388\n",
      "Глубина 8          0.0068277999998827\n",
      "Глубина 9          0.013025199999901815\n"
     ]
    }
   ],
   "source": [
    "import timeit\n",
    "\n",
    "x = 700    #Координаты расположения Пифагорова деревца\n",
    "y = 700    #Пифагорова дерева\n",
    "side = 100 #Длинна стороны квадрата\n",
    "\n",
    "\n",
    "root = Tk();\n",
    "canv = Canvas(root, width = 1600, height = 1200, bg = \"white\")\n",
    "print(\"Глубина 1          \" + str(timeit.timeit(\"Pyth_tree(x, y, side, math.pi/2, math.pi/4, 2, 0)\", number=1, globals=globals())))\n",
    "root = Tk();\n",
    "print(\"Глубина 3          \" + str(timeit.timeit(\"Pyth_tree(x, y, side, math.pi/2, math.pi/4, 4, 0)\", number=1, globals=globals())))\n",
    "root = Tk();\n",
    "print(\"Глубина 5          \" + str(timeit.timeit(\"Pyth_tree(x, y, side, math.pi/2, math.pi/4, 6, 0)\", number=1, globals=globals())))\n",
    "root = Tk();\n",
    "print(\"Глубина 7          \" + str(timeit.timeit(\"Pyth_tree(x, y, side, math.pi/2, math.pi/4, 8, 0)\", number=1, globals=globals())))\n",
    "root = Tk();\n",
    "print(\"Глубина 8          \" + str(timeit.timeit(\"Pyth_tree(x, y, side, math.pi/2, math.pi/4, 9, 0)\", number=1, globals=globals())))\n",
    "root = Tk();\n",
    "print(\"Глубина 9          \" + str(timeit.timeit(\"Pyth_tree(x, y, side, math.pi/2, math.pi/4, 10, 0)\", number=1, globals=globals())))"
   ]
  },
  {
   "cell_type": "code",
   "execution_count": null,
   "id": "020c03bb",
   "metadata": {},
   "outputs": [],
   "source": []
  }
 ],
 "metadata": {
  "kernelspec": {
   "display_name": "Python 3 (ipykernel)",
   "language": "python",
   "name": "python3"
  },
  "language_info": {
   "codemirror_mode": {
    "name": "ipython",
    "version": 3
   },
   "file_extension": ".py",
   "mimetype": "text/x-python",
   "name": "python",
   "nbconvert_exporter": "python",
   "pygments_lexer": "ipython3",
   "version": "3.9.7"
  }
 },
 "nbformat": 4,
 "nbformat_minor": 5
}
