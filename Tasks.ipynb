{
 "cells": [
  {
   "cell_type": "markdown",
   "id": "c8d3a72d",
   "metadata": {},
   "source": [
    "# Контрольные задачи по дисциплине СиАОД №1"
   ]
  },
  {
   "cell_type": "markdown",
   "id": "2eb63aee",
   "metadata": {},
   "source": [
    "## Выполнила студентка грауппы БСТ2002 Тулаева Диана Павловна"
   ]
  },
  {
   "cell_type": "markdown",
   "id": "f88da1a9",
   "metadata": {},
   "source": [
    "### Задача 1. «Треугольник с максимальным периметром»"
   ]
  },
  {
   "cell_type": "markdown",
   "id": "e092121c",
   "metadata": {},
   "source": [
    "#### Массив A состоит из целых положительных чисел - длин отрезков. Составьте из трех отрезков такой треугольник, чтобы его периметр был максимально возможным. Если невозможно составить треугольник с положительной площадью - функция возвращает 0."
   ]
  },
  {
   "cell_type": "code",
   "execution_count": 34,
   "id": "f6dba244",
   "metadata": {},
   "outputs": [],
   "source": [
    "def max_Perimeter(arr):\n",
    "    arr.sort()\n",
    "    for i in range(len(arr) - 3,-1,-1): \n",
    "        if arr[i] + arr[i + 1] > arr[i + 2]:\n",
    "            return arr[i] + arr[i + 1] + arr[i + 2]\n",
    "    return 0"
   ]
  },
  {
   "cell_type": "code",
   "execution_count": 44,
   "id": "5173b4a7",
   "metadata": {},
   "outputs": [
    {
     "name": "stdout",
     "output_type": "stream",
     "text": [
      "5\n",
      "0\n",
      "10\n",
      "8\n"
     ]
    }
   ],
   "source": [
    "arr = [2, 1, 2]\n",
    "print (max_Perimeter(arr))\n",
    "\n",
    "arr = [1,2,1]\n",
    "print (max_Perimeter(arr))\n",
    "\n",
    "arr = [3,2,3,4]\n",
    "print (max_Perimeter(arr))\n",
    "\n",
    "arr = [3,6,2,3]\n",
    "print (max_Perimeter(arr))"
   ]
  },
  {
   "cell_type": "markdown",
   "id": "2044d790",
   "metadata": {},
   "source": [
    "###  Задача 2. «Максимальное число»"
   ]
  },
  {
   "cell_type": "markdown",
   "id": "fed6ab7c",
   "metadata": {},
   "source": [
    "#### Дан массив неотрицательных целых чисел nums. Расположите их в таком порядке, чтобы вместе они образовали максимально возможное число."
   ]
  },
  {
   "cell_type": "code",
   "execution_count": 58,
   "id": "b52ac590",
   "metadata": {},
   "outputs": [],
   "source": [
    "def dualComp(a, b):\n",
    "    ab = int(str(a) + str(b))\n",
    "    ba = int(str(b) + str(a))\n",
    "    if ab > ba:\n",
    "        return True\n",
    "    else:\n",
    "        return False\n",
    "    \n",
    "def sortArr(arr):\n",
    "    for i in range(len(arr) - 1):\n",
    "        max = i\n",
    "        for j in range(i + 1, len(arr)):\n",
    "            if not dualComp(arr[max], arr[j]):\n",
    "                max = j\n",
    "        arr[i], arr[max] = arr[max], arr[i]\n",
    "\n",
    "def max_Number(nums):\n",
    "    sortArr(nums)\n",
    "    return ''.join(str(e) for e in nums)"
   ]
  },
  {
   "cell_type": "code",
   "execution_count": 59,
   "id": "14cce368",
   "metadata": {},
   "outputs": [
    {
     "name": "stdout",
     "output_type": "stream",
     "text": [
      "210\n",
      "9534330\n",
      "1\n",
      "10\n"
     ]
    }
   ],
   "source": [
    "print(max_Number([10,2]))\n",
    "print(max_Number([3,30,34,5,9]))\n",
    "print(max_Number([1]))\n",
    "print(max_Number([10]))"
   ]
  },
  {
   "cell_type": "markdown",
   "id": "cb701626",
   "metadata": {},
   "source": [
    "### Задача 3. «Сортировка диагоналей в матрице»"
   ]
  },
  {
   "cell_type": "markdown",
   "id": "29b16e6e",
   "metadata": {},
   "source": [
    "#### Дана матрица mat размером m * n, значения - целочисленные. Напишите функцию, сортирующую каждую диагональ матрицы по возрастанию и возвращающую получившуюся матрицу."
   ]
  },
  {
   "cell_type": "code",
   "execution_count": 72,
   "id": "c00356a3",
   "metadata": {},
   "outputs": [],
   "source": [
    "def sortDiag(matrix, i, s3 = 0, s4 = 0):\n",
    "    diag = []\n",
    "    s1 = s3\n",
    "    s2 = s4\n",
    "    while True:\n",
    "        try:\n",
    "            diag.append(matrix[s1][s2])\n",
    "            s1 += 1\n",
    "            s2 += 1\n",
    "        except IndexError:\n",
    "            break\n",
    "    diag.sort()\n",
    "    s1 = s3\n",
    "    s2 = s4\n",
    "    for j in range(len(diag)):\n",
    "        matrix[s1][s2] = diag[j]\n",
    "        s1 += 1\n",
    "        s2 += 1\n",
    "            \n",
    "def sortDiagMatrix(matrix):           \n",
    "    for i in range(len(matrix)): #сортирует верхние диагонали \n",
    "        sortDiag(matrix, i, s3 = i)\n",
    "    for i in range(1, len(matrix[0])): #сортирует нижние диагонали \n",
    "        sortDiag(matrix, i, s4 = i)\n",
    "    return matrix"
   ]
  },
  {
   "cell_type": "code",
   "execution_count": 74,
   "id": "b40f4b47",
   "metadata": {},
   "outputs": [
    {
     "name": "stdout",
     "output_type": "stream",
     "text": [
      "Matrix1: \n",
      "[3, 3, 1, 1]\n",
      "[2, 2, 1, 2]\n",
      "[1, 1, 1, 2]\n",
      "\n",
      "Sorted1: \n",
      "[1, 1, 1, 1]\n",
      "[1, 2, 2, 2]\n",
      "[1, 2, 3, 3]\n",
      "\n",
      "Matrix2: \n",
      "[11, 25, 66, 1, 69, 7]\n",
      "[23, 55, 17, 45, 15, 52]\n",
      "[75, 31, 36, 44, 58, 8]\n",
      "[22, 27, 33, 25, 68, 4]\n",
      "[84, 28, 14, 11, 5, 50]\n",
      "\n",
      "Sorted2: \n",
      "[5, 17, 4, 1, 52, 7]\n",
      "[11, 11, 25, 45, 8, 69]\n",
      "[14, 23, 25, 44, 58, 15]\n",
      "[22, 27, 31, 36, 50, 66]\n",
      "[84, 28, 75, 33, 55, 68]\n"
     ]
    }
   ],
   "source": [
    "print(\"Matrix1: \")\n",
    "arr = [[3, 3, 1, 1], [2, 2, 1, 2], [1, 1, 1, 2]]\n",
    "for l in arr:\n",
    "    print(l) \n",
    "print(\"\\nSorted1: \")\n",
    "arr = sortDiagMatrix([[3, 3, 1, 1], [2, 2, 1, 2], [1, 1, 1, 2]])\n",
    "for l in arr:\n",
    "    print(l)\n",
    "\n",
    "print(\"\\nMatrix2: \")\n",
    "arr = [[11, 25, 66, 1, 69, 7], [23, 55, 17, 45, 15, 52], [75, 31, 36, 44, 58, 8], [22, 27, 33, 25, 68, 4], [84, 28, 14, 11, 5, 50]]\n",
    "for l in arr:\n",
    "    print(l) \n",
    "print(\"\\nSorted2: \")\n",
    "arr = sortDiagMatrix([[11, 25, 66, 1, 69, 7], [23, 55, 17, 45, 15, 52], [75, 31, 36, 44, 58, 8], [22, 27, 33, 25, 68, 4], [84, 28, 14, 11, 5, 50]])\n",
    "for l in arr:\n",
    "    print(l)"
   ]
  }
 ],
 "metadata": {
  "kernelspec": {
   "display_name": "Python 3 (ipykernel)",
   "language": "python",
   "name": "python3"
  },
  "language_info": {
   "codemirror_mode": {
    "name": "ipython",
    "version": 3
   },
   "file_extension": ".py",
   "mimetype": "text/x-python",
   "name": "python",
   "nbconvert_exporter": "python",
   "pygments_lexer": "ipython3",
   "version": "3.9.7"
  }
 },
 "nbformat": 4,
 "nbformat_minor": 5
}
