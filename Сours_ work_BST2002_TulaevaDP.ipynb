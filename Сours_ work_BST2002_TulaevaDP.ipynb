{
 "cells": [
  {
   "cell_type": "markdown",
   "id": "87a3910d",
   "metadata": {},
   "source": [
    "### Задача №1 Выращиваем бактерии"
   ]
  },
  {
   "cell_type": "markdown",
   "id": "54cb1d7d",
   "metadata": {},
   "source": [
    "#### Вы — большой любитель бактерий. Вам хочется вырастить немного бактерий в коробочке. Изначально коробочка пуста. Каждое утро можно положить любое количество бактерий в коробочку. Каждую ночь каждая бактерия делится на две бактерии. Когда-нибудь вы надеетесь увидеть ровно x бактерий в коробочке. Какое минимальное количество бактерий вам суммарно надо положить в коробочку для достижения этой цели?\n",
    "#### Стоимость: 1000"
   ]
  },
  {
   "cell_type": "code",
   "execution_count": 49,
   "id": "a57377f6",
   "metadata": {},
   "outputs": [],
   "source": [
    "import time\n",
    "import pandas as pd"
   ]
  },
  {
   "cell_type": "code",
   "execution_count": 57,
   "id": "387c6963",
   "metadata": {},
   "outputs": [],
   "source": [
    "def bacterium(bact):\n",
    "    count = 1\n",
    "    while bact > 1:\n",
    "        if bact % 2 == 1:  # Так как каждый день бактерии уваличиваются х2, посчитаем сколько раз число не поделаится на 2\n",
    "            count += 1     # и из всех оствтков получим искомое число \n",
    "        bact = bact // 2\n",
    "    return (count)"
   ]
  },
  {
   "cell_type": "code",
   "execution_count": 58,
   "id": "a04f54bd",
   "metadata": {},
   "outputs": [
    {
     "name": "stdout",
     "output_type": "stream",
     "text": [
      "2\n",
      "1\n",
      "1\n",
      "4\n",
      "5\n",
      "3\n"
     ]
    }
   ],
   "source": [
    "print(bacterium(5)) #На вход даёттся число Х выросших бакерий. Вывести число бактерий, которе нужно положить чтобы получить Х\n",
    "print(bacterium(8)) \n",
    "print(bacterium(1)) \n",
    "print(bacterium(53)) \n",
    "print(bacterium(124)) \n",
    "print(bacterium(100)) "
   ]
  },
  {
   "cell_type": "markdown",
   "id": "0bf5dbdb",
   "metadata": {},
   "source": [
    "### Время выполнения Задачи №1"
   ]
  },
  {
   "cell_type": "code",
   "execution_count": 65,
   "id": "91fec9f4",
   "metadata": {},
   "outputs": [
    {
     "name": "stdout",
     "output_type": "stream",
     "text": [
      "bacterium\n",
      "Выполнена за: 0.00099874 секунд\n"
     ]
    }
   ],
   "source": [
    "A = time.time()\n",
    "bacterium(5)\n",
    "B = time.time() - A\n",
    "print(\"bacterium\")\n",
    "\n",
    "print(\"Выполнена за:\",'%.8f' % B,\"секунд\")"
   ]
  },
  {
   "cell_type": "markdown",
   "id": "9f945567",
   "metadata": {},
   "source": [
    " ### Задача №2 IQ тест"
   ]
  },
  {
   "cell_type": "markdown",
   "id": "39fc54fc",
   "metadata": {},
   "source": [
    "#### Вася готовится проходить IQ тест. В этом тесте часто встречаются задания, в которых нужно найти лишнее из n чисел. Вася заметил, что это лишнее число обычно отличается от остальных по четности. Помогите Васе — для проверки своих ответов, ему требуется программа, которая среди заданных n чисел находит отличающееся по четности.\n",
    "#### Стоимость: 1300"
   ]
  },
  {
   "cell_type": "code",
   "execution_count": 40,
   "id": "0709dd68",
   "metadata": {},
   "outputs": [],
   "source": [
    "def IQtest(n, arr):\n",
    "    count_even = 0\n",
    "    index_even = 0 \n",
    "    count_uneven = 0\n",
    "    index_uneven = 0 \n",
    "    for i in range(n):\n",
    "        if arr[i] % 2 == 0:  # Считаем сколько чётных чисел\n",
    "            count_even += 1\n",
    "            index_even = i \n",
    "        else:               # Считаем сколько нечётных чисел\n",
    "            count_uneven += 1 \n",
    "            index_uneven = i \n",
    "\n",
    "    if count_even == 1:     # Если из всего ряда только одно число ЧЁТНОЕ, оно и является лишним\n",
    "        print ('Лишнее число чётное. Его номер:')\n",
    "        print(index_even + 1)\n",
    "        print ('IQ Test пройден. Поздравляю! Вы - Гений!')\n",
    "    elif count_uneven == 1: # Если из всего ряда только одно число НЕЧЁТНОЕ, оно и является лишним\n",
    "        print ('Лишнее число нечётное. Его номер:')\n",
    "        print(index_uneven + 1)\n",
    "        print ('IQ Test пройден. Поздравляю! Вы - Гений!')\n",
    "    else:                   # Если что-то пошло не по плану, нужно перепроверить входные данные\n",
    "        print('Солнышко, проверь введённую последовательность...')"
   ]
  },
  {
   "cell_type": "code",
   "execution_count": 30,
   "id": "a771b0ce",
   "metadata": {},
   "outputs": [
    {
     "name": "stdout",
     "output_type": "stream",
     "text": [
      "Введите количество чисел:\n",
      "5\n",
      "Введите числа через пробел:\n",
      "2 4 7 8 10\n",
      "Лишнее число нечётное. Его номер:\n",
      "3\n",
      "IQ Test пройден. Поздравляю! Вы - Гений!\n"
     ]
    }
   ],
   "source": [
    "print ('Введите количество чисел:')\n",
    "n = int(input())\n",
    "print ('Введите числа через пробел:')\n",
    "arr = [int(i) for i in input().split()]\n",
    "IQtest(n, arr)"
   ]
  },
  {
   "cell_type": "code",
   "execution_count": 31,
   "id": "1da2b36e",
   "metadata": {},
   "outputs": [
    {
     "name": "stdout",
     "output_type": "stream",
     "text": [
      "Введите количество чисел:\n",
      "4\n",
      "Введите числа через пробел:\n",
      "1 2 1 1\n",
      "Лишнее число чётное. Его номер:\n",
      "2\n",
      "IQ Test пройден. Поздравляю! Вы - Гений!\n"
     ]
    }
   ],
   "source": [
    "print ('Введите количество чисел:')\n",
    "n = int(input())\n",
    "print ('Введите числа через пробел:')\n",
    "arr = [int(i) for i in input().split()]\n",
    "IQtest(n, arr)"
   ]
  },
  {
   "cell_type": "code",
   "execution_count": 32,
   "id": "75bbe74a",
   "metadata": {},
   "outputs": [
    {
     "name": "stdout",
     "output_type": "stream",
     "text": [
      "Введите количество чисел:\n",
      "5\n",
      "Введите числа через пробел:\n",
      "2 2 3 3 3\n",
      "Солнышко, проверь введённую последовательность...\n"
     ]
    }
   ],
   "source": [
    "print ('Введите количество чисел:')\n",
    "n = int(input())\n",
    "print ('Введите числа через пробел:')\n",
    "arr = [int(i) for i in input().split()]\n",
    "IQtest(n, arr)"
   ]
  },
  {
   "cell_type": "markdown",
   "id": "da273212",
   "metadata": {},
   "source": [
    "### Время выполнения Задачи №2"
   ]
  },
  {
   "cell_type": "code",
   "execution_count": 39,
   "id": "0b9e0047",
   "metadata": {},
   "outputs": [
    {
     "name": "stdout",
     "output_type": "stream",
     "text": [
      "IQtest\n",
      "Выполнена за: 0.00100040 секунд\n"
     ]
    }
   ],
   "source": [
    "A = time.time()\n",
    "IQtest(5, [2, 4, 7, 8, 10])\n",
    "B = time.time() - A\n",
    "print(\"IQtest\")\n",
    "\n",
    "print(\"Выполнена за:\",'%.8f' % B,\"секунд\")"
   ]
  },
  {
   "cell_type": "markdown",
   "id": "209de4a6",
   "metadata": {},
   "source": [
    " ### Задача №3 Украшение столов"
   ]
  },
  {
   "cell_type": "markdown",
   "id": "9d2f1171",
   "metadata": {},
   "source": [
    "#### Имеется r красных, g зеленых и b синих воздушных шаров. Для украшения одного стола перед банкетом требуется ровно три воздушных шара. Причем недопустимо, чтобы все три шара были одного цвета. Какое максимальное количество столов t можно украсить, имея заданное количество воздушных шаров? Ваша задача — написать программу, которая по заданным значениям r, g и b определит наибольшее количество столов t, которые можно украсить требуемым способом.\n",
    "#### Стоимость: 1800"
   ]
  },
  {
   "cell_type": "code",
   "execution_count": 73,
   "id": "97ff0fb2",
   "metadata": {},
   "outputs": [],
   "source": [
    "def Table_decoration(arr):\n",
    "    s = int(sum(arr) / 3)\n",
    "    a = arr[0] + arr[1]\n",
    "    b = arr[1] + arr[2]\n",
    "    c = arr[0] + arr[2]    \n",
    "    print('Наибольшее количество столов, которые можно украсить:')\n",
    "    print(min(s, a ,b, c))"
   ]
  },
  {
   "cell_type": "code",
   "execution_count": 43,
   "id": "bb12e603",
   "metadata": {},
   "outputs": [
    {
     "name": "stdout",
     "output_type": "stream",
     "text": [
      "Введите количесвто шаров красного, зеленого и синего цвета через пробел:\n",
      "5 4 3\n",
      "Наибольшее количество столов, которые можно украсить:\n",
      "4\n"
     ]
    }
   ],
   "source": [
    "print('Введите количесвто шаров красного, зеленого и синего цвета через пробел:')\n",
    "arr =  [int(i) for i in input().split()]\n",
    "Table_decoration(arr)"
   ]
  },
  {
   "cell_type": "code",
   "execution_count": 44,
   "id": "e75b4f97",
   "metadata": {},
   "outputs": [
    {
     "name": "stdout",
     "output_type": "stream",
     "text": [
      "Введите количесвто шаров красного, зеленого и синего цвета через пробел:\n",
      "1 1 1\n",
      "Наибольшее количество столов, которые можно украсить:\n",
      "1\n"
     ]
    }
   ],
   "source": [
    "print('Введите количесвто шаров красного, зеленого и синего цвета через пробел:')\n",
    "arr =  [int(i) for i in input().split()]\n",
    "Table_decoration(arr)"
   ]
  },
  {
   "cell_type": "code",
   "execution_count": 45,
   "id": "90e19a5a",
   "metadata": {},
   "outputs": [
    {
     "name": "stdout",
     "output_type": "stream",
     "text": [
      "Введите количесвто шаров красного, зеленого и синего цвета через пробел:\n",
      "2 3 3\n",
      "Наибольшее количество столов, которые можно украсить:\n",
      "2\n"
     ]
    }
   ],
   "source": [
    "print('Введите количесвто шаров красного, зеленого и синего цвета через пробел:')\n",
    "arr =  [int(i) for i in input().split()]\n",
    "Table_decoration(arr)"
   ]
  },
  {
   "cell_type": "markdown",
   "id": "25756de8",
   "metadata": {},
   "source": [
    "### Время выполнения Задачи №3"
   ]
  },
  {
   "cell_type": "code",
   "execution_count": 72,
   "id": "2d911f07",
   "metadata": {},
   "outputs": [
    {
     "name": "stdout",
     "output_type": "stream",
     "text": [
      "Table_decoration\n",
      "Выполнена за: 0.00099707 секунд\n"
     ]
    }
   ],
   "source": [
    "A = time.time()\n",
    "Table_decoration([5, 4, 3])\n",
    "B = time.time() - A\n",
    "print(\"Table_decoration\")\n",
    "\n",
    "print(\"Выполнена за:\",'%.8f' % B,\"секунд\")"
   ]
  },
  {
   "cell_type": "markdown",
   "id": "9b4b5a0f",
   "metadata": {},
   "source": [
    "### Задача №4 Случайные команды"
   ]
  },
  {
   "cell_type": "markdown",
   "id": "c379b022",
   "metadata": {},
   "source": [
    "#### Для участия в соревнованиях n участников были разбиты некоторым образом на m команд так, чтобы в каждой команде был хотя бы один участник. После соревнований каждая пара участников из одной команды стала друзьями. Ваша задача — написать программу, которая определит, какое минимальное и какое максимальное количество пар друзей могло образоваться после соревнования."
   ]
  },
  {
   "cell_type": "markdown",
   "id": "4e2e4905",
   "metadata": {},
   "source": [
    "#### Стоимость: 1300"
   ]
  },
  {
   "cell_type": "code",
   "execution_count": 74,
   "id": "f41c442d",
   "metadata": {},
   "outputs": [],
   "source": [
    "def Max_pairs(arr):          # Считает максимальное возможное количество пар друзей\n",
    "    Kmax = 0\n",
    "    for i in range (arr[1] - 1):\n",
    "        arr[0] -= 1\n",
    "    Kmax += int((arr[0]*(arr[0] + 1) / 2) - arr[0])\n",
    "    #for s in range (arr[0]):\n",
    "     #   Kmax += s\n",
    "    return Kmax\n",
    "\n",
    "def Min_pairs(arr):          # Считает минимальное возможное количество пар друзей\n",
    "    teams = []\n",
    "    Kmin = 0\n",
    "    div = arr[0] // arr[1]   # Ровно распределяет людей по командам\n",
    "    mod = arr[0] % arr[1]    # Оствшиеся люди \n",
    "    for i in range(arr[1]):  # Формирует команды\n",
    "        teams.append(div) \n",
    "    for i in range(mod):     # Добавляет оставшихся людей в команды \n",
    "        teams[i] += 1 \n",
    "    for i in range (arr[1]):                                     # Чтобы посчитать кол-во пар в одной команде есть\n",
    "        Kmin += int((teams[i] * (teams[i] + 1) / 2) - teams[i])  # формула для подсчета суммы чисел от 1 до n - 1\n",
    "    return Kmin"
   ]
  },
  {
   "cell_type": "code",
   "execution_count": 75,
   "id": "0a9550a3",
   "metadata": {},
   "outputs": [
    {
     "name": "stdout",
     "output_type": "stream",
     "text": [
      "Введите через пробел число участников и число команд\n",
      "5 1\n",
      "Минимальное и максимальное количество пар друзей: 10 10\n"
     ]
    }
   ],
   "source": [
    "print('Введите через пробел число участников и число команд')\n",
    "arr = [int(i) for i in input().split()]\n",
    "print('Минимальное и максимальное количество пар друзей:', + Min_pairs(arr), + Max_pairs(arr))"
   ]
  },
  {
   "cell_type": "code",
   "execution_count": 76,
   "id": "2266d85f",
   "metadata": {},
   "outputs": [
    {
     "name": "stdout",
     "output_type": "stream",
     "text": [
      "Введите через пробел число участников и число команд\n",
      "3 2\n",
      "Минимальное и максимальное количество пар друзей: 1 1\n"
     ]
    }
   ],
   "source": [
    "print('Введите через пробел число участников и число команд')\n",
    "arr = [int(i) for i in input().split()]\n",
    "print('Минимальное и максимальное количество пар друзей:', + Min_pairs(arr), + Max_pairs(arr))"
   ]
  },
  {
   "cell_type": "code",
   "execution_count": 77,
   "id": "8a7e9db5",
   "metadata": {},
   "outputs": [
    {
     "name": "stdout",
     "output_type": "stream",
     "text": [
      "Введите через пробел число участников и число команд\n",
      "6 3\n",
      "Минимальное и максимальное количество пар друзей: 3 6\n"
     ]
    }
   ],
   "source": [
    "print('Введите через пробел число участников и число команд')\n",
    "arr = [int(i) for i in input().split()]\n",
    "print('Минимальное и максимальное количество пар друзей:', + Min_pairs(arr), + Max_pairs(arr))"
   ]
  },
  {
   "cell_type": "markdown",
   "id": "07e06280",
   "metadata": {},
   "source": [
    "### Время выполнения Задачи №4"
   ]
  },
  {
   "cell_type": "code",
   "execution_count": 81,
   "id": "121ffc0e",
   "metadata": {},
   "outputs": [
    {
     "name": "stdout",
     "output_type": "stream",
     "text": [
      "Random_commands\n",
      "Выполнена за: 0.00102997 секунд\n"
     ]
    }
   ],
   "source": [
    "A = time.time()\n",
    "Min_pairs([6, 3])\n",
    "B = time.time() - A\n",
    "C = time.time()\n",
    "Max_pairs([6, 3])\n",
    "D = time.time() - C\n",
    "print(\"Random_commands\")\n",
    "print(\"Выполнена за:\",'%.8f' % (B + D) ,\"секунд\")"
   ]
  },
  {
   "cell_type": "markdown",
   "id": "a889bd87",
   "metadata": {},
   "source": [
    "### Вывод"
   ]
  },
  {
   "cell_type": "markdown",
   "id": "6eb97465",
   "metadata": {},
   "source": [
    "#### Мною было сделано 4 задачи. \n",
    "#### В сумме набрано 5400 баллов"
   ]
  }
 ],
 "metadata": {
  "kernelspec": {
   "display_name": "Python 3 (ipykernel)",
   "language": "python",
   "name": "python3"
  },
  "language_info": {
   "codemirror_mode": {
    "name": "ipython",
    "version": 3
   },
   "file_extension": ".py",
   "mimetype": "text/x-python",
   "name": "python",
   "nbconvert_exporter": "python",
   "pygments_lexer": "ipython3",
   "version": "3.9.7"
  }
 },
 "nbformat": 4,
 "nbformat_minor": 5
}
